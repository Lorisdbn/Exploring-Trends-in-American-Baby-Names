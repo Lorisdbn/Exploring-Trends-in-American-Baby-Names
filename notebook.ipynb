{
 "cells": [
  {
   "cell_type": "code",
   "execution_count": 33,
   "id": "9fec6084-70f6-4f82-9463-9c7734ed36f5",
   "metadata": {
    "customType": "sql",
    "dataFrameVariableName": "usa_baby_names",
    "executionCancelledAt": null,
    "executionTime": null,
    "lastExecutedAt": null,
    "lastExecutedByKernel": null,
    "lastScheduledRunId": null,
    "lastSuccessfullyExecutedCode": null,
    "outputsMetadata": {
     "0": {
      "height": 550,
      "tableState": {
       "customFilter": {
        "const": {
         "type": "boolean",
         "valid": true,
         "value": true
        },
        "id": "8ff7531e-6bf0-443e-8b6d-9a91ac3a9b27",
        "nodeType": "const"
       }
      },
      "type": "dataFrame"
     }
    },
    "sqlCellMode": "dataFrame",
    "sqlSource": {
     "integrationId": "89e17161-a224-4a8a-846b-0adc0fe7a4b1",
     "integrationType": "postgresql",
     "type": "integration"
    }
   },
   "outputs": [
    {
     "@datacamp/metadata": {
      "executedQuery": "-- Run this code to view the data in baby_names\nSELECT *\nFROM baby_names\nLIMIT 5;",
      "executedQueryParameters": []
     },
     "data": {
      "application/com.datacamp.data-table.v2+json": {
       "table": {
        "data": {
         "first_name": [
          "Mary",
          "Dorothy",
          "Helen",
          "Margaret",
          "Ruth"
         ],
         "index": [
          0,
          1,
          2,
          3,
          4
         ],
         "num": [
          70982,
          36643,
          35097,
          27994,
          26101
         ],
         "sex": [
          "F",
          "F",
          "F",
          "F",
          "F"
         ],
         "year": [
          1920,
          1920,
          1920,
          1920,
          1920
         ]
        },
        "schema": {
         "fields": [
          {
           "name": "index",
           "type": "integer"
          },
          {
           "name": "year",
           "type": "integer"
          },
          {
           "name": "first_name",
           "type": "string"
          },
          {
           "name": "sex",
           "type": "string"
          },
          {
           "name": "num",
           "type": "integer"
          }
         ],
         "pandas_version": "1.4.0",
         "primaryKey": [
          "index"
         ]
        }
       },
       "total_rows": 5,
       "truncation_type": null
      },
      "text/html": [
       "<div>\n",
       "<style scoped>\n",
       "    .dataframe tbody tr th:only-of-type {\n",
       "        vertical-align: middle;\n",
       "    }\n",
       "\n",
       "    .dataframe tbody tr th {\n",
       "        vertical-align: top;\n",
       "    }\n",
       "\n",
       "    .dataframe thead th {\n",
       "        text-align: right;\n",
       "    }\n",
       "</style>\n",
       "<table border=\"1\" class=\"dataframe\">\n",
       "  <thead>\n",
       "    <tr style=\"text-align: right;\">\n",
       "      <th></th>\n",
       "      <th>year</th>\n",
       "      <th>first_name</th>\n",
       "      <th>sex</th>\n",
       "      <th>num</th>\n",
       "    </tr>\n",
       "  </thead>\n",
       "  <tbody>\n",
       "    <tr>\n",
       "      <th>0</th>\n",
       "      <td>1920</td>\n",
       "      <td>Mary</td>\n",
       "      <td>F</td>\n",
       "      <td>70982</td>\n",
       "    </tr>\n",
       "    <tr>\n",
       "      <th>1</th>\n",
       "      <td>1920</td>\n",
       "      <td>Dorothy</td>\n",
       "      <td>F</td>\n",
       "      <td>36643</td>\n",
       "    </tr>\n",
       "    <tr>\n",
       "      <th>2</th>\n",
       "      <td>1920</td>\n",
       "      <td>Helen</td>\n",
       "      <td>F</td>\n",
       "      <td>35097</td>\n",
       "    </tr>\n",
       "    <tr>\n",
       "      <th>3</th>\n",
       "      <td>1920</td>\n",
       "      <td>Margaret</td>\n",
       "      <td>F</td>\n",
       "      <td>27994</td>\n",
       "    </tr>\n",
       "    <tr>\n",
       "      <th>4</th>\n",
       "      <td>1920</td>\n",
       "      <td>Ruth</td>\n",
       "      <td>F</td>\n",
       "      <td>26101</td>\n",
       "    </tr>\n",
       "  </tbody>\n",
       "</table>\n",
       "</div>"
      ],
      "text/plain": [
       "   year first_name sex    num\n",
       "0  1920       Mary   F  70982\n",
       "1  1920    Dorothy   F  36643\n",
       "2  1920      Helen   F  35097\n",
       "3  1920   Margaret   F  27994\n",
       "4  1920       Ruth   F  26101"
      ]
     },
     "execution_count": 33,
     "metadata": {
      "application/com.datacamp.data-table.v2+json": {
       "status": "success"
      }
     },
     "output_type": "execute_result"
    }
   ],
   "source": [
    "-- Data overview\n",
    "SELECT *\n",
    "FROM baby_names\n",
    "LIMIT 5;"
   ]
  },
  {
   "cell_type": "code",
   "execution_count": 34,
   "id": "494ba253-5d78-480b-b39b-f028130cc647",
   "metadata": {
    "customType": "sql",
    "dataFrameVariableName": "name_types",
    "executionCancelledAt": null,
    "executionTime": null,
    "lastExecutedAt": null,
    "lastExecutedByKernel": null,
    "lastScheduledRunId": null,
    "lastSuccessfullyExecutedCode": null,
    "outputsMetadata": {
     "0": {
      "height": 550,
      "tableState": {
       "customFilter": {
        "const": {
         "type": "boolean",
         "valid": true,
         "value": true
        },
        "id": "8ff7531e-6bf0-443e-8b6d-9a91ac3a9b27",
        "nodeType": "const"
       }
      },
      "type": "dataFrame"
     }
    },
    "sqlCellMode": "dataFrame",
    "sqlSource": {
     "integrationId": "89e17161-a224-4a8a-846b-0adc0fe7a4b1",
     "integrationType": "postgresql",
     "type": "integration"
    }
   },
   "outputs": [
    {
     "@datacamp/metadata": {
      "executedQuery": "-- List of the overall top five names in alphabetical order. Which one is \"Classic\" or \"Trendy\" \\?\n\nSELECT \n\tfirst_name, \n\tSUM(num),\n\tCASE WHEN COUNT(*) > 50 THEN 'classic'\n    ELSE 'trendy'\n  END AS popularity_type\nFROM baby_names\nGROUP BY first_name\nORDER BY first_name\nLIMIT 5;",
      "executedQueryParameters": []
     },
     "data": {
      "application/com.datacamp.data-table.v2+json": {
       "table": {
        "data": {
         "first_name": [
          "Aaliyah",
          "Aaron",
          "Abigail",
          "Adam",
          "Addison"
         ],
         "index": [
          0,
          1,
          2,
          3,
          4
         ],
         "popularity_type": [
          "trendy",
          "classic",
          "trendy",
          "trendy",
          "trendy"
         ],
         "sum": [
          15870,
          530592,
          338485,
          497293,
          107433
         ]
        },
        "schema": {
         "fields": [
          {
           "name": "index",
           "type": "integer"
          },
          {
           "name": "first_name",
           "type": "string"
          },
          {
           "name": "sum",
           "type": "integer"
          },
          {
           "name": "popularity_type",
           "type": "string"
          }
         ],
         "pandas_version": "1.4.0",
         "primaryKey": [
          "index"
         ]
        }
       },
       "total_rows": 5,
       "truncation_type": null
      },
      "text/html": [
       "<div>\n",
       "<style scoped>\n",
       "    .dataframe tbody tr th:only-of-type {\n",
       "        vertical-align: middle;\n",
       "    }\n",
       "\n",
       "    .dataframe tbody tr th {\n",
       "        vertical-align: top;\n",
       "    }\n",
       "\n",
       "    .dataframe thead th {\n",
       "        text-align: right;\n",
       "    }\n",
       "</style>\n",
       "<table border=\"1\" class=\"dataframe\">\n",
       "  <thead>\n",
       "    <tr style=\"text-align: right;\">\n",
       "      <th></th>\n",
       "      <th>first_name</th>\n",
       "      <th>sum</th>\n",
       "      <th>popularity_type</th>\n",
       "    </tr>\n",
       "  </thead>\n",
       "  <tbody>\n",
       "    <tr>\n",
       "      <th>0</th>\n",
       "      <td>Aaliyah</td>\n",
       "      <td>15870</td>\n",
       "      <td>trendy</td>\n",
       "    </tr>\n",
       "    <tr>\n",
       "      <th>1</th>\n",
       "      <td>Aaron</td>\n",
       "      <td>530592</td>\n",
       "      <td>classic</td>\n",
       "    </tr>\n",
       "    <tr>\n",
       "      <th>2</th>\n",
       "      <td>Abigail</td>\n",
       "      <td>338485</td>\n",
       "      <td>trendy</td>\n",
       "    </tr>\n",
       "    <tr>\n",
       "      <th>3</th>\n",
       "      <td>Adam</td>\n",
       "      <td>497293</td>\n",
       "      <td>trendy</td>\n",
       "    </tr>\n",
       "    <tr>\n",
       "      <th>4</th>\n",
       "      <td>Addison</td>\n",
       "      <td>107433</td>\n",
       "      <td>trendy</td>\n",
       "    </tr>\n",
       "  </tbody>\n",
       "</table>\n",
       "</div>"
      ],
      "text/plain": [
       "  first_name     sum popularity_type\n",
       "0    Aaliyah   15870          trendy\n",
       "1      Aaron  530592         classic\n",
       "2    Abigail  338485          trendy\n",
       "3       Adam  497293          trendy\n",
       "4    Addison  107433          trendy"
      ]
     },
     "execution_count": 34,
     "metadata": {
      "application/com.datacamp.data-table.v2+json": {
       "status": "success"
      }
     },
     "output_type": "execute_result"
    }
   ],
   "source": [
    "-- List of the overall top five names in alphabetical order. Which one is \"Classic\" or \"Trendy\" ?\n",
    "\n",
    "SELECT \n",
    "\tfirst_name, \n",
    "\tSUM(num),\n",
    "\tCASE WHEN COUNT(*) > 50 THEN 'classic'\n",
    "    ELSE 'trendy'\n",
    "  END AS popularity_type\n",
    "FROM baby_names\n",
    "GROUP BY first_name\n",
    "ORDER BY first_name\n",
    "LIMIT 5;\n"
   ]
  },
  {
   "cell_type": "code",
   "execution_count": 35,
   "id": "cfd0ee5c-5806-4c21-8e66-91a5fc342c9f",
   "metadata": {
    "customType": "sql",
    "dataFrameVariableName": "top_20",
    "executionCancelledAt": null,
    "executionTime": 1072,
    "lastExecutedAt": 1749651099546,
    "lastExecutedByKernel": "d42480ab-31bd-4e35-967d-a394e9f54c8f",
    "lastScheduledRunId": null,
    "lastSuccessfullyExecutedCode": "-- The top 20 male names overall; how did the name Paul rank?\n\nSELECT \n\tRANK() OVER(ORDER BY SUM(num) DESC) AS name_rank,\n\tfirst_name,\n\tSUM(num) AS sum\nFROM baby_names\nWHERE sex = 'M'\nGROUP BY first_name\nLIMIT 20;\n\n-- Paul is ranked 17th\n\n",
    "outputsMetadata": {
     "0": {
      "height": 550,
      "tableState": {
       "customFilter": {
        "const": {
         "type": "boolean",
         "valid": true,
         "value": true
        },
        "id": "8ff7531e-6bf0-443e-8b6d-9a91ac3a9b27",
        "nodeType": "const"
       }
      },
      "type": "dataFrame"
     }
    },
    "sqlCellMode": "dataFrame",
    "sqlSource": {
     "integrationId": "89e17161-a224-4a8a-846b-0adc0fe7a4b1",
     "integrationType": "postgresql",
     "type": "integration"
    }
   },
   "outputs": [
    {
     "@datacamp/metadata": {
      "executedQuery": "-- The top 20 male names overall; how did the name Paul rank\\?\n\nSELECT \n\tRANK() OVER(ORDER BY SUM(num) DESC) AS name_rank,\n\tfirst_name,\n\tSUM(num) AS sum\nFROM baby_names\nWHERE sex = 'M'\nGROUP BY first_name\nLIMIT 20;\n\n-- Paul is ranked 17th\n",
      "executedQueryParameters": []
     },
     "data": {
      "application/com.datacamp.data-table.v2+json": {
       "table": {
        "data": {
         "first_name": [
          "James",
          "John",
          "Robert",
          "Michael",
          "William",
          "David",
          "Richard",
          "Joseph",
          "Thomas",
          "Charles",
          "Christopher",
          "Daniel",
          "Matthew",
          "Anthony",
          "Donald",
          "Mark",
          "Paul",
          "Steven",
          "Joshua",
          "Andrew"
         ],
         "index": [
          0,
          1,
          2,
          3,
          4,
          5,
          6,
          7,
          8,
          9,
          10,
          11,
          12,
          13,
          14,
          15,
          16,
          17,
          18,
          19
         ],
         "name_rank": [
          1,
          2,
          3,
          4,
          5,
          6,
          7,
          8,
          9,
          10,
          11,
          12,
          13,
          14,
          15,
          16,
          17,
          18,
          19,
          20
         ],
         "sum": [
          4748138,
          4510721,
          4495199,
          4278824,
          3614424,
          3571498,
          2414838,
          2361382,
          2166802,
          2112352,
          2012792,
          1824274,
          1567204,
          1344352,
          1280236,
          1265910,
          1218996,
          1216819,
          1204236,
          1157548
         ]
        },
        "schema": {
         "fields": [
          {
           "name": "index",
           "type": "integer"
          },
          {
           "name": "name_rank",
           "type": "integer"
          },
          {
           "name": "first_name",
           "type": "string"
          },
          {
           "name": "sum",
           "type": "integer"
          }
         ],
         "pandas_version": "1.4.0",
         "primaryKey": [
          "index"
         ]
        }
       },
       "total_rows": 20,
       "truncation_type": null
      },
      "text/html": [
       "<div>\n",
       "<style scoped>\n",
       "    .dataframe tbody tr th:only-of-type {\n",
       "        vertical-align: middle;\n",
       "    }\n",
       "\n",
       "    .dataframe tbody tr th {\n",
       "        vertical-align: top;\n",
       "    }\n",
       "\n",
       "    .dataframe thead th {\n",
       "        text-align: right;\n",
       "    }\n",
       "</style>\n",
       "<table border=\"1\" class=\"dataframe\">\n",
       "  <thead>\n",
       "    <tr style=\"text-align: right;\">\n",
       "      <th></th>\n",
       "      <th>name_rank</th>\n",
       "      <th>first_name</th>\n",
       "      <th>sum</th>\n",
       "    </tr>\n",
       "  </thead>\n",
       "  <tbody>\n",
       "    <tr>\n",
       "      <th>0</th>\n",
       "      <td>1</td>\n",
       "      <td>James</td>\n",
       "      <td>4748138</td>\n",
       "    </tr>\n",
       "    <tr>\n",
       "      <th>1</th>\n",
       "      <td>2</td>\n",
       "      <td>John</td>\n",
       "      <td>4510721</td>\n",
       "    </tr>\n",
       "    <tr>\n",
       "      <th>2</th>\n",
       "      <td>3</td>\n",
       "      <td>Robert</td>\n",
       "      <td>4495199</td>\n",
       "    </tr>\n",
       "    <tr>\n",
       "      <th>3</th>\n",
       "      <td>4</td>\n",
       "      <td>Michael</td>\n",
       "      <td>4278824</td>\n",
       "    </tr>\n",
       "    <tr>\n",
       "      <th>4</th>\n",
       "      <td>5</td>\n",
       "      <td>William</td>\n",
       "      <td>3614424</td>\n",
       "    </tr>\n",
       "    <tr>\n",
       "      <th>5</th>\n",
       "      <td>6</td>\n",
       "      <td>David</td>\n",
       "      <td>3571498</td>\n",
       "    </tr>\n",
       "    <tr>\n",
       "      <th>6</th>\n",
       "      <td>7</td>\n",
       "      <td>Richard</td>\n",
       "      <td>2414838</td>\n",
       "    </tr>\n",
       "    <tr>\n",
       "      <th>7</th>\n",
       "      <td>8</td>\n",
       "      <td>Joseph</td>\n",
       "      <td>2361382</td>\n",
       "    </tr>\n",
       "    <tr>\n",
       "      <th>8</th>\n",
       "      <td>9</td>\n",
       "      <td>Thomas</td>\n",
       "      <td>2166802</td>\n",
       "    </tr>\n",
       "    <tr>\n",
       "      <th>9</th>\n",
       "      <td>10</td>\n",
       "      <td>Charles</td>\n",
       "      <td>2112352</td>\n",
       "    </tr>\n",
       "    <tr>\n",
       "      <th>10</th>\n",
       "      <td>11</td>\n",
       "      <td>Christopher</td>\n",
       "      <td>2012792</td>\n",
       "    </tr>\n",
       "    <tr>\n",
       "      <th>11</th>\n",
       "      <td>12</td>\n",
       "      <td>Daniel</td>\n",
       "      <td>1824274</td>\n",
       "    </tr>\n",
       "    <tr>\n",
       "      <th>12</th>\n",
       "      <td>13</td>\n",
       "      <td>Matthew</td>\n",
       "      <td>1567204</td>\n",
       "    </tr>\n",
       "    <tr>\n",
       "      <th>13</th>\n",
       "      <td>14</td>\n",
       "      <td>Anthony</td>\n",
       "      <td>1344352</td>\n",
       "    </tr>\n",
       "    <tr>\n",
       "      <th>14</th>\n",
       "      <td>15</td>\n",
       "      <td>Donald</td>\n",
       "      <td>1280236</td>\n",
       "    </tr>\n",
       "    <tr>\n",
       "      <th>15</th>\n",
       "      <td>16</td>\n",
       "      <td>Mark</td>\n",
       "      <td>1265910</td>\n",
       "    </tr>\n",
       "    <tr>\n",
       "      <th>16</th>\n",
       "      <td>17</td>\n",
       "      <td>Paul</td>\n",
       "      <td>1218996</td>\n",
       "    </tr>\n",
       "    <tr>\n",
       "      <th>17</th>\n",
       "      <td>18</td>\n",
       "      <td>Steven</td>\n",
       "      <td>1216819</td>\n",
       "    </tr>\n",
       "    <tr>\n",
       "      <th>18</th>\n",
       "      <td>19</td>\n",
       "      <td>Joshua</td>\n",
       "      <td>1204236</td>\n",
       "    </tr>\n",
       "    <tr>\n",
       "      <th>19</th>\n",
       "      <td>20</td>\n",
       "      <td>Andrew</td>\n",
       "      <td>1157548</td>\n",
       "    </tr>\n",
       "  </tbody>\n",
       "</table>\n",
       "</div>"
      ],
      "text/plain": [
       "    name_rank   first_name      sum\n",
       "0           1        James  4748138\n",
       "1           2         John  4510721\n",
       "2           3       Robert  4495199\n",
       "3           4      Michael  4278824\n",
       "4           5      William  3614424\n",
       "5           6        David  3571498\n",
       "6           7      Richard  2414838\n",
       "7           8       Joseph  2361382\n",
       "8           9       Thomas  2166802\n",
       "9          10      Charles  2112352\n",
       "10         11  Christopher  2012792\n",
       "11         12       Daniel  1824274\n",
       "12         13      Matthew  1567204\n",
       "13         14      Anthony  1344352\n",
       "14         15       Donald  1280236\n",
       "15         16         Mark  1265910\n",
       "16         17         Paul  1218996\n",
       "17         18       Steven  1216819\n",
       "18         19       Joshua  1204236\n",
       "19         20       Andrew  1157548"
      ]
     },
     "execution_count": 35,
     "metadata": {
      "application/com.datacamp.data-table.v2+json": {
       "status": "success"
      }
     },
     "output_type": "execute_result"
    }
   ],
   "source": [
    "-- The top 20 male names overall; how did the name Paul rank?\n",
    "\n",
    "SELECT \n",
    "\tRANK() OVER(ORDER BY SUM(num) DESC) AS name_rank,\n",
    "\tfirst_name,\n",
    "\tSUM(num) AS sum\n",
    "FROM baby_names\n",
    "WHERE sex = 'M'\n",
    "GROUP BY first_name\n",
    "LIMIT 20;\n",
    "\n",
    "-- Paul is ranked 17th\n",
    "\n"
   ]
  },
  {
   "cell_type": "code",
   "execution_count": 36,
   "id": "034d17ab-0503-4ab1-8a21-50bc9bb09e8c",
   "metadata": {
    "customType": "sql",
    "dataFrameVariableName": "a_names",
    "executionCancelledAt": null,
    "executionTime": 1960,
    "lastExecutedAt": 1749651101506,
    "lastExecutedByKernel": "d42480ab-31bd-4e35-967d-a394e9f54c8f",
    "lastScheduledRunId": null,
    "lastSuccessfullyExecutedCode": "-- Which female names appeared in both 1920 and 2020?\n\nSELECT \n\tfirst_name,\n\tSUM(num) AS total_occurrences\nFROM baby_names\nWHERE sex = 'F' AND year IN (1920, 2020)\nGROUP BY first_name\nHAVING COUNT(DISTINCT year) = 2;\n",
    "outputsMetadata": {
     "0": {
      "height": 550,
      "tableState": {
       "customFilter": {
        "const": {
         "type": "boolean",
         "valid": true,
         "value": true
        },
        "id": "8ff7531e-6bf0-443e-8b6d-9a91ac3a9b27",
        "nodeType": "const"
       }
      },
      "type": "dataFrame"
     }
    },
    "sqlCellMode": "dataFrame",
    "sqlSource": {
     "integrationId": "89e17161-a224-4a8a-846b-0adc0fe7a4b1",
     "integrationType": "postgresql",
     "type": "integration"
    }
   },
   "outputs": [
    {
     "@datacamp/metadata": {
      "executedQuery": "-- Which female names appeared in both 1920 and 2020\\?\n\nSELECT \n\tfirst_name,\n\tSUM(num) AS total_occurrences\nFROM baby_names\nWHERE sex = 'F' AND year IN (1920, 2020)\nGROUP BY first_name\nHAVING COUNT(DISTINCT year) = 2;",
      "executedQueryParameters": []
     },
     "data": {
      "application/com.datacamp.data-table.v2+json": {
       "table": {
        "data": {
         "first_name": [
          "Eleanor",
          "Elizabeth",
          "Emma",
          "Evelyn",
          "Grace",
          "Hazel"
         ],
         "index": [
          0,
          1,
          2,
          3,
          4,
          5
         ],
         "total_occurrences": [
          14832,
          23125,
          20818,
          23283,
          12741,
          12765
         ]
        },
        "schema": {
         "fields": [
          {
           "name": "index",
           "type": "integer"
          },
          {
           "name": "first_name",
           "type": "string"
          },
          {
           "name": "total_occurrences",
           "type": "integer"
          }
         ],
         "pandas_version": "1.4.0",
         "primaryKey": [
          "index"
         ]
        }
       },
       "total_rows": 6,
       "truncation_type": null
      },
      "text/html": [
       "<div>\n",
       "<style scoped>\n",
       "    .dataframe tbody tr th:only-of-type {\n",
       "        vertical-align: middle;\n",
       "    }\n",
       "\n",
       "    .dataframe tbody tr th {\n",
       "        vertical-align: top;\n",
       "    }\n",
       "\n",
       "    .dataframe thead th {\n",
       "        text-align: right;\n",
       "    }\n",
       "</style>\n",
       "<table border=\"1\" class=\"dataframe\">\n",
       "  <thead>\n",
       "    <tr style=\"text-align: right;\">\n",
       "      <th></th>\n",
       "      <th>first_name</th>\n",
       "      <th>total_occurrences</th>\n",
       "    </tr>\n",
       "  </thead>\n",
       "  <tbody>\n",
       "    <tr>\n",
       "      <th>0</th>\n",
       "      <td>Eleanor</td>\n",
       "      <td>14832</td>\n",
       "    </tr>\n",
       "    <tr>\n",
       "      <th>1</th>\n",
       "      <td>Elizabeth</td>\n",
       "      <td>23125</td>\n",
       "    </tr>\n",
       "    <tr>\n",
       "      <th>2</th>\n",
       "      <td>Emma</td>\n",
       "      <td>20818</td>\n",
       "    </tr>\n",
       "    <tr>\n",
       "      <th>3</th>\n",
       "      <td>Evelyn</td>\n",
       "      <td>23283</td>\n",
       "    </tr>\n",
       "    <tr>\n",
       "      <th>4</th>\n",
       "      <td>Grace</td>\n",
       "      <td>12741</td>\n",
       "    </tr>\n",
       "    <tr>\n",
       "      <th>5</th>\n",
       "      <td>Hazel</td>\n",
       "      <td>12765</td>\n",
       "    </tr>\n",
       "  </tbody>\n",
       "</table>\n",
       "</div>"
      ],
      "text/plain": [
       "  first_name  total_occurrences\n",
       "0    Eleanor              14832\n",
       "1  Elizabeth              23125\n",
       "2       Emma              20818\n",
       "3     Evelyn              23283\n",
       "4      Grace              12741\n",
       "5      Hazel              12765"
      ]
     },
     "execution_count": 36,
     "metadata": {
      "application/com.datacamp.data-table.v2+json": {
       "status": "success"
      }
     },
     "output_type": "execute_result"
    }
   ],
   "source": [
    "-- Which female names appeared in both 1920 and 2020?\n",
    "\n",
    "SELECT \n",
    "\tfirst_name,\n",
    "\tSUM(num) AS total_occurrences\n",
    "FROM baby_names\n",
    "WHERE sex = 'F' AND year IN (1920, 2020)\n",
    "GROUP BY first_name\n",
    "HAVING COUNT(DISTINCT year) = 2;\n"
   ]
  }
 ],
 "metadata": {
  "colab": {
   "name": "Welcome to DataCamp Workspaces.ipynb",
   "provenance": []
  },
  "editor": "DataLab",
  "kernelspec": {
   "display_name": "Python [conda env:base] *",
   "language": "python",
   "name": "conda-base-py"
  },
  "language_info": {
   "codemirror_mode": {
    "name": "ipython",
    "version": 3
   },
   "file_extension": ".py",
   "mimetype": "text/x-python",
   "name": "python",
   "nbconvert_exporter": "python",
   "pygments_lexer": "ipython3",
   "version": "3.12.7"
  }
 },
 "nbformat": 4,
 "nbformat_minor": 5
}
